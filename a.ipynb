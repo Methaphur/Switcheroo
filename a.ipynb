{
 "cells": [
  {
   "cell_type": "markdown",
   "metadata": {},
   "source": [
    "$$\n",
    "\\text{A Pythagorean triplet is a set of three natural numbers $a<b<c$, for which}\\\\\\\\a^2+b^2=c^2.\\\\\\\\\\\\text{For example $3^2+4^2=5^2$}\\\\\\\\\\\\text{There exists exactly one Pythagorean triplet for which $a+b+c=1000$.}\\\\\\\\\\\\text{Find the product $abc$.}\n",
    "$$"
   ]
  },
  {
   "cell_type": "code",
   "execution_count": null,
   "metadata": {},
   "outputs": [],
   "source": []
  }
 ],
 "metadata": {
  "kernelspec": {
   "display_name": "venv",
   "language": "python",
   "name": "python3"
  },
  "language_info": {
   "name": "python",
   "version": "3.9.11"
  },
  "orig_nbformat": 4
 },
 "nbformat": 4,
 "nbformat_minor": 2
}
